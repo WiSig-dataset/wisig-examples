{
 "cells": [
  {
   "cell_type": "code",
   "execution_count": 1,
   "metadata": {
    "scrolled": true
   },
   "outputs": [],
   "source": [
    "%load_ext autoreload\n",
    "\n",
    "%autoreload 2\n",
    "import matplotlib.pyplot as plt\n",
    "import numpy as np\n",
    "import pickle\n",
    "import os\n",
    "import os.path\n",
    "\n",
    "import scipy,scipy.spatial\n",
    "import matplotlib\n",
    "matplotlib.rcParams['figure.dpi'] = 100\n",
    "\n",
    "from  data_utilities import *\n",
    "# from definitions import *\n",
    "# from run_train_eval_net import run_train_eval_net,run_eval_net"
   ]
  },
  {
   "cell_type": "code",
   "execution_count": 2,
   "metadata": {},
   "outputs": [],
   "source": [
    "import os\n",
    "GPU = \"1\"\n",
    "os.environ[\"CUDA_DEVICE_ORDER\"]=\"PCI_BUS_ID\"   \n",
    "os.environ[\"CUDA_VISIBLE_DEVICES\"]=GPU"
   ]
  },
  {
   "cell_type": "code",
   "execution_count": 3,
   "metadata": {},
   "outputs": [
    {
     "name": "stdout",
     "output_type": "stream",
     "text": [
      "150 18\n"
     ]
    }
   ],
   "source": [
    "dataset_name = 'ManyTx'\n",
    "dataset_path='../../orbit_rf_dataset/data/compact_pkl_datasets/'\n",
    "\n",
    "compact_dataset = load_compact_pkl_dataset(dataset_path,dataset_name)\n",
    "\n",
    "tx_list = compact_dataset['tx_list']\n",
    "rx_list = compact_dataset['rx_list']\n",
    "\n",
    "max_n = compact_dataset['max_sig']\n",
    "\n",
    "equalized = 0\n",
    "\n",
    "capture_date_list = compact_dataset['capture_date_list'][0]\n",
    "n_tx = len(tx_list)\n",
    "n_rx = len(rx_list)\n",
    "print(n_tx,n_rx)\n"
   ]
  },
  {
   "cell_type": "code",
   "execution_count": 4,
   "metadata": {},
   "outputs": [
    {
     "data": {
      "image/png": "[encoded data removed]",
      "text/plain": [
       "<Figure size 432x288 with 1 Axes>"
      ]
     },
     "metadata": {
      "needs_background": "light"
     },
     "output_type": "display_data"
    },
    {
     "data": {
      "image/png": "[encoded data removed]",
      "text/plain": [
       "<Figure size 432x288 with 1 Axes>"
      ]
     },
     "metadata": {
      "needs_background": "light"
     },
     "output_type": "display_data"
    }
   ],
   "source": [
    "def plot_nodes(nl):\n",
    "    x = []\n",
    "    y = []\n",
    "    for n in nl:\n",
    "        #print(n)\n",
    "        t = n.split(\"-\")\n",
    "        x.append(int(t[0]))\n",
    "        y.append(int(t[1]))\n",
    "    plt.scatter(x,y,s=0.8)\n",
    "    plt.xticks(range(0,24,4))\n",
    "    plt.yticks(range(0,24,4))\n",
    "    plt.xlabel('x position')\n",
    "    plt.ylabel('y position')\n",
    "    return np.array([x,y]).T\n",
    "    \n",
    "tx_coordinates = plot_nodes(tx_list)\n",
    "plt.figure()\n",
    "rx_coordinates = plot_nodes(rx_list)"
   ]
  },
  {
   "cell_type": "code",
   "execution_count": 5,
   "metadata": {},
   "outputs": [],
   "source": [
    "\n",
    "# avg = np.zeros((len(tx_list),n_rx))\n",
    "# for i,tx in enumerate(tx_list):\n",
    "#     for j,rx in enumerate(rx_list):\n",
    "#         dataset = merge_datasets(capture_date_list,[tx],[rx], prefix=prefix,dataset_name=dataset_name)\n",
    "#         dt= dataset['data'][0]\n",
    "#         #print()\n",
    "#         avg[i,j]=np.mean( np.sqrt(dt[:,:,0]**2+dt[:,:,1]**2))\n",
    "# mx = np.nanmax(avg)\n",
    "# mn = np.nanmin(avg)\n",
    "# print(mx,mn)"
   ]
  },
  {
   "cell_type": "code",
   "execution_count": 6,
   "metadata": {},
   "outputs": [],
   "source": [
    "mx = 0.19972752351638326\n",
    "mn = 0.0052386050160007245\n",
    "loc_data = np.zeros((len(tx_list),n_rx,max_n))\n",
    "for i,tx in enumerate(tx_list):\n",
    "    for j,rx in enumerate(rx_list):\n",
    "        dataset = merge_compact_dataset(compact_dataset,capture_date_list,[tx],[rx], equalized=equalized)\n",
    "        dt= dataset['data'][0]\n",
    "        n = len(dt)\n",
    "        \n",
    "        loc_data[i,j,:n]=np.mean( np.sqrt(dt[:,:,0]**2+dt[:,:,1]**2),1)\n",
    "        loc_data[i,j,n:]=np.random.uniform( mn,mx,size=max_n-n)"
   ]
  },
  {
   "cell_type": "code",
   "execution_count": 7,
   "metadata": {},
   "outputs": [
    {
     "data": {
      "text/plain": [
       "(150, 18, 50)"
      ]
     },
     "execution_count": 7,
     "metadata": {},
     "output_type": "execute_result"
    }
   ],
   "source": [
    "loc_data.shape"
   ]
  },
  {
   "cell_type": "code",
   "execution_count": 8,
   "metadata": {},
   "outputs": [],
   "source": [
    "data_x = np.zeros((len(tx_list)*max_n,n_rx))\n",
    "data_y = np.zeros((len(tx_list)*max_n,2))\n",
    "for i in range(len(tx_list)):\n",
    "    for j in range(max_n):\n",
    "        data_x[i*max_n+j,:]=loc_data[i,:,j].flatten()\n",
    "        data_y[i*max_n+j,0]=tx_coordinates[i,0]\n",
    "        data_y[i*max_n+j,1]=tx_coordinates[i,1]\n",
    "\n",
    "shfl = list(range(data_x.shape[0]))\n",
    "np.random.seed(0)\n",
    "np.random.shuffle(shfl)\n",
    "\n",
    "data_x = data_x[shfl]\n",
    "data_y = data_y[shfl]\n",
    "\n",
    "tst_frac = 0.1\n",
    "vld_frac = 0.1\n",
    "\n",
    "tst_samp = int(tst_frac*data_x.shape[0])\n",
    "val_samp = int(vld_frac*data_x.shape[0])\n",
    "\n",
    "test_x=data_x[:tst_samp]\n",
    "test_y=data_y[:tst_samp]\n",
    "vld_x=data_x[tst_samp:tst_samp+val_samp]\n",
    "vld_y=data_y[tst_samp:tst_samp+val_samp]\n",
    "train_x=data_x[tst_samp+val_samp:]\n",
    "train_y=data_y[tst_samp+val_samp:]\n"
   ]
  },
  {
   "cell_type": "code",
   "execution_count": 9,
   "metadata": {},
   "outputs": [
    {
     "name": "stderr",
     "output_type": "stream",
     "text": [
      "/home/samer/miniconda3/envs/mod_framework/lib/python3.6/site-packages/tensorflow/python/framework/dtypes.py:516: FutureWarning: Passing (type, 1) or '1type' as a synonym of type is deprecated; in a future version of numpy, it will be understood as (type, (1,)) / '(1,)type'.\n",
      "  _np_qint8 = np.dtype([(\"qint8\", np.int8, 1)])\n",
      "/home/samer/miniconda3/envs/mod_framework/lib/python3.6/site-packages/tensorflow/python/framework/dtypes.py:517: FutureWarning: Passing (type, 1) or '1type' as a synonym of type is deprecated; in a future version of numpy, it will be understood as (type, (1,)) / '(1,)type'.\n",
      "  _np_quint8 = np.dtype([(\"quint8\", np.uint8, 1)])\n",
      "/home/samer/miniconda3/envs/mod_framework/lib/python3.6/site-packages/tensorflow/python/framework/dtypes.py:518: FutureWarning: Passing (type, 1) or '1type' as a synonym of type is deprecated; in a future version of numpy, it will be understood as (type, (1,)) / '(1,)type'.\n",
      "  _np_qint16 = np.dtype([(\"qint16\", np.int16, 1)])\n",
      "/home/samer/miniconda3/envs/mod_framework/lib/python3.6/site-packages/tensorflow/python/framework/dtypes.py:519: FutureWarning: Passing (type, 1) or '1type' as a synonym of type is deprecated; in a future version of numpy, it will be understood as (type, (1,)) / '(1,)type'.\n",
      "  _np_quint16 = np.dtype([(\"quint16\", np.uint16, 1)])\n",
      "/home/samer/miniconda3/envs/mod_framework/lib/python3.6/site-packages/tensorflow/python/framework/dtypes.py:520: FutureWarning: Passing (type, 1) or '1type' as a synonym of type is deprecated; in a future version of numpy, it will be understood as (type, (1,)) / '(1,)type'.\n",
      "  _np_qint32 = np.dtype([(\"qint32\", np.int32, 1)])\n",
      "/home/samer/miniconda3/envs/mod_framework/lib/python3.6/site-packages/tensorflow/python/framework/dtypes.py:525: FutureWarning: Passing (type, 1) or '1type' as a synonym of type is deprecated; in a future version of numpy, it will be understood as (type, (1,)) / '(1,)type'.\n",
      "  np_resource = np.dtype([(\"resource\", np.ubyte, 1)])\n",
      "/home/samer/miniconda3/envs/mod_framework/lib/python3.6/site-packages/tensorboard/compat/tensorflow_stub/dtypes.py:541: FutureWarning: Passing (type, 1) or '1type' as a synonym of type is deprecated; in a future version of numpy, it will be understood as (type, (1,)) / '(1,)type'.\n",
      "  _np_qint8 = np.dtype([(\"qint8\", np.int8, 1)])\n",
      "/home/samer/miniconda3/envs/mod_framework/lib/python3.6/site-packages/tensorboard/compat/tensorflow_stub/dtypes.py:542: FutureWarning: Passing (type, 1) or '1type' as a synonym of type is deprecated; in a future version of numpy, it will be understood as (type, (1,)) / '(1,)type'.\n",
      "  _np_quint8 = np.dtype([(\"quint8\", np.uint8, 1)])\n",
      "/home/samer/miniconda3/envs/mod_framework/lib/python3.6/site-packages/tensorboard/compat/tensorflow_stub/dtypes.py:543: FutureWarning: Passing (type, 1) or '1type' as a synonym of type is deprecated; in a future version of numpy, it will be understood as (type, (1,)) / '(1,)type'.\n",
      "  _np_qint16 = np.dtype([(\"qint16\", np.int16, 1)])\n",
      "/home/samer/miniconda3/envs/mod_framework/lib/python3.6/site-packages/tensorboard/compat/tensorflow_stub/dtypes.py:544: FutureWarning: Passing (type, 1) or '1type' as a synonym of type is deprecated; in a future version of numpy, it will be understood as (type, (1,)) / '(1,)type'.\n",
      "  _np_quint16 = np.dtype([(\"quint16\", np.uint16, 1)])\n",
      "/home/samer/miniconda3/envs/mod_framework/lib/python3.6/site-packages/tensorboard/compat/tensorflow_stub/dtypes.py:545: FutureWarning: Passing (type, 1) or '1type' as a synonym of type is deprecated; in a future version of numpy, it will be understood as (type, (1,)) / '(1,)type'.\n",
      "  _np_qint32 = np.dtype([(\"qint32\", np.int32, 1)])\n",
      "/home/samer/miniconda3/envs/mod_framework/lib/python3.6/site-packages/tensorboard/compat/tensorflow_stub/dtypes.py:550: FutureWarning: Passing (type, 1) or '1type' as a synonym of type is deprecated; in a future version of numpy, it will be understood as (type, (1,)) / '(1,)type'.\n",
      "  np_resource = np.dtype([(\"resource\", np.ubyte, 1)])\n"
     ]
    }
   ],
   "source": [
    "import tensorflow as tf\n",
    "import tensorflow.keras as keras\n",
    "from tensorflow.keras import regularizers\n",
    "from tensorflow.keras.models import Sequential, Model\n",
    "from tensorflow.keras.layers import *\n",
    "import tensorflow.keras.backend as K"
   ]
  },
  {
   "cell_type": "code",
   "execution_count": 14,
   "metadata": {},
   "outputs": [
    {
     "name": "stdout",
     "output_type": "stream",
     "text": [
      "Model: \"model_2\"\n",
      "_________________________________________________________________\n",
      "Layer (type)                 Output Shape              Param #   \n",
      "=================================================================\n",
      "input_3 (InputLayer)         [(None, 18)]              0         \n",
      "_________________________________________________________________\n",
      "dense_6 (Dense)              (None, 100)               1900      \n",
      "_________________________________________________________________\n",
      "dense_7 (Dense)              (None, 80)                8080      \n",
      "_________________________________________________________________\n",
      "dense_8 (Dense)              (None, 2)                 162       \n",
      "=================================================================\n",
      "Total params: 10,142\n",
      "Trainable params: 10,142\n",
      "Non-trainable params: 0\n",
      "_________________________________________________________________\n"
     ]
    }
   ],
   "source": [
    " def create_net():\n",
    "    ap = lambda x,y: x+'_'+y\n",
    "   \n",
    "\n",
    "    inputs = Input(shape=(n_rx,))\n",
    "    x = inputs\n",
    "    x = Dense(100, activation='relu', kernel_regularizer = keras.regularizers.l2(0.0001))(x)\n",
    "    x = Dense(80, activation='relu',kernel_regularizer = keras.regularizers.l2(0.0001))(x)\n",
    "    x = Dense(2, activation=None,kernel_regularizer = keras.regularizers.l2(0.0001))(x)\n",
    "    ops = x\n",
    "\n",
    "    classifier = Model(inputs,ops)\n",
    "    classifier.compile(loss='mse',metrics=['mae'],optimizer=keras.optimizers.Adam(0.001))\n",
    "    \n",
    "    return classifier\n",
    "\n",
    "create_net().summary()"
   ]
  },
  {
   "cell_type": "code",
   "execution_count": 15,
   "metadata": {},
   "outputs": [
    {
     "name": "stdout",
     "output_type": "stream",
     "text": [
      "Train on 6000 samples, validate on 750 samples\n",
      "Epoch 1/100\n",
      "6000/6000 [==============================] - 1s 138us/sample - loss: 73.5564 - mean_absolute_error: 7.0297 - val_loss: 37.0383 - val_mean_absolute_error: 5.3062\n",
      "Epoch 2/100\n",
      "6000/6000 [==============================] - 1s 93us/sample - loss: 28.6884 - mean_absolute_error: 4.5432 - val_loss: 20.1068 - val_mean_absolute_error: 3.6174\n",
      "Epoch 3/100\n",
      "6000/6000 [==============================] - 1s 101us/sample - loss: 16.7154 - mean_absolute_error: 3.1202 - val_loss: 15.1621 - val_mean_absolute_error: 2.9484\n",
      "Epoch 4/100\n",
      "6000/6000 [==============================] - 1s 91us/sample - loss: 14.5683 - mean_absolute_error: 2.8040 - val_loss: 13.7752 - val_mean_absolute_error: 2.7326\n",
      "Epoch 5/100\n",
      "6000/6000 [==============================] - 1s 98us/sample - loss: 13.7384 - mean_absolute_error: 2.6996 - val_loss: 13.0876 - val_mean_absolute_error: 2.6238\n",
      "Epoch 6/100\n",
      "6000/6000 [==============================] - 1s 94us/sample - loss: 13.0482 - mean_absolute_error: 2.6113 - val_loss: 12.4695 - val_mean_absolute_error: 2.5321\n",
      "Epoch 7/100\n",
      "6000/6000 [==============================] - 1s 95us/sample - loss: 12.3579 - mean_absolute_error: 2.5284 - val_loss: 12.1973 - val_mean_absolute_error: 2.5588\n",
      "Epoch 8/100\n",
      "6000/6000 [==============================] - 1s 87us/sample - loss: 11.7440 - mean_absolute_error: 2.4597 - val_loss: 11.3909 - val_mean_absolute_error: 2.3977\n",
      "Epoch 9/100\n",
      "6000/6000 [==============================] - 1s 88us/sample - loss: 11.1803 - mean_absolute_error: 2.3911 - val_loss: 10.8625 - val_mean_absolute_error: 2.3447\n",
      "Epoch 10/100\n",
      "6000/6000 [==============================] - 1s 103us/sample - loss: 10.6488 - mean_absolute_error: 2.3267 - val_loss: 10.4408 - val_mean_absolute_error: 2.2870\n",
      "Epoch 11/100\n",
      "6000/6000 [==============================] - 1s 91us/sample - loss: 10.2167 - mean_absolute_error: 2.2742 - val_loss: 10.0056 - val_mean_absolute_error: 2.2158\n",
      "Epoch 12/100\n",
      "6000/6000 [==============================] - 1s 99us/sample - loss: 9.8508 - mean_absolute_error: 2.2353 - val_loss: 9.6745 - val_mean_absolute_error: 2.1789\n",
      "Epoch 13/100\n",
      "6000/6000 [==============================] - 1s 91us/sample - loss: 9.4428 - mean_absolute_error: 2.1896 - val_loss: 9.2775 - val_mean_absolute_error: 2.1326\n",
      "Epoch 14/100\n",
      "6000/6000 [==============================] - 1s 104us/sample - loss: 9.1446 - mean_absolute_error: 2.1508 - val_loss: 8.9818 - val_mean_absolute_error: 2.1031\n",
      "Epoch 15/100\n",
      "6000/6000 [==============================] - 1s 99us/sample - loss: 8.8618 - mean_absolute_error: 2.1144 - val_loss: 8.7498 - val_mean_absolute_error: 2.0700\n",
      "Epoch 16/100\n",
      "6000/6000 [==============================] - 1s 98us/sample - loss: 8.6595 - mean_absolute_error: 2.0969 - val_loss: 8.5990 - val_mean_absolute_error: 2.0673\n",
      "Epoch 17/100\n",
      "6000/6000 [==============================] - 1s 98us/sample - loss: 8.4521 - mean_absolute_error: 2.0782 - val_loss: 8.3800 - val_mean_absolute_error: 2.0387\n",
      "Epoch 18/100\n",
      "6000/6000 [==============================] - 1s 93us/sample - loss: 8.1951 - mean_absolute_error: 2.0449 - val_loss: 8.3102 - val_mean_absolute_error: 2.0286\n",
      "Epoch 19/100\n",
      "6000/6000 [==============================] - 1s 95us/sample - loss: 8.1175 - mean_absolute_error: 2.0424 - val_loss: 7.9949 - val_mean_absolute_error: 1.9880\n",
      "Epoch 20/100\n",
      "6000/6000 [==============================] - 1s 85us/sample - loss: 7.8630 - mean_absolute_error: 2.0087 - val_loss: 7.9117 - val_mean_absolute_error: 1.9700\n",
      "Epoch 21/100\n",
      "6000/6000 [==============================] - 1s 101us/sample - loss: 7.6938 - mean_absolute_error: 1.9831 - val_loss: 7.8647 - val_mean_absolute_error: 1.9747\n",
      "Epoch 22/100\n",
      "6000/6000 [==============================] - 1s 100us/sample - loss: 7.5742 - mean_absolute_error: 1.9772 - val_loss: 7.5948 - val_mean_absolute_error: 1.9277\n",
      "Epoch 23/100\n",
      "6000/6000 [==============================] - 1s 106us/sample - loss: 7.3859 - mean_absolute_error: 1.9463 - val_loss: 7.4547 - val_mean_absolute_error: 1.9148\n",
      "Epoch 24/100\n",
      "6000/6000 [==============================] - 1s 93us/sample - loss: 7.2712 - mean_absolute_error: 1.9324 - val_loss: 7.3724 - val_mean_absolute_error: 1.9118\n",
      "Epoch 25/100\n",
      "6000/6000 [==============================] - 0s 57us/sample - loss: 7.1767 - mean_absolute_error: 1.9209 - val_loss: 7.3322 - val_mean_absolute_error: 1.9210\n",
      "Epoch 26/100\n",
      "6000/6000 [==============================] - 0s 54us/sample - loss: 7.0694 - mean_absolute_error: 1.9078 - val_loss: 7.3534 - val_mean_absolute_error: 1.9195\n",
      "Epoch 27/100\n",
      "6000/6000 [==============================] - 0s 63us/sample - loss: 6.9297 - mean_absolute_error: 1.8808 - val_loss: 7.0464 - val_mean_absolute_error: 1.8633\n",
      "Epoch 28/100\n",
      "6000/6000 [==============================] - 0s 55us/sample - loss: 6.8421 - mean_absolute_error: 1.8729 - val_loss: 7.0852 - val_mean_absolute_error: 1.8765\n",
      "Epoch 29/100\n",
      "6000/6000 [==============================] - 0s 57us/sample - loss: 6.7247 - mean_absolute_error: 1.8532 - val_loss: 6.9997 - val_mean_absolute_error: 1.8587\n",
      "Epoch 30/100\n",
      "6000/6000 [==============================] - 0s 55us/sample - loss: 6.8077 - mean_absolute_error: 1.8741 - val_loss: 6.8841 - val_mean_absolute_error: 1.8325\n",
      "Epoch 31/100\n",
      "6000/6000 [==============================] - 0s 65us/sample - loss: 6.5319 - mean_absolute_error: 1.8234 - val_loss: 6.7543 - val_mean_absolute_error: 1.8124\n",
      "Epoch 32/100\n",
      "6000/6000 [==============================] - 1s 102us/sample - loss: 6.4418 - mean_absolute_error: 1.8120 - val_loss: 6.7041 - val_mean_absolute_error: 1.8014\n",
      "Epoch 33/100\n",
      "6000/6000 [==============================] - 1s 87us/sample - loss: 6.4029 - mean_absolute_error: 1.8080 - val_loss: 6.6401 - val_mean_absolute_error: 1.8020\n",
      "Epoch 34/100\n",
      "6000/6000 [==============================] - 0s 59us/sample - loss: 6.2975 - mean_absolute_error: 1.7902 - val_loss: 6.5824 - val_mean_absolute_error: 1.8008\n",
      "Epoch 35/100\n",
      "6000/6000 [==============================] - 0s 61us/sample - loss: 6.2488 - mean_absolute_error: 1.7824 - val_loss: 6.5188 - val_mean_absolute_error: 1.7717\n",
      "Epoch 36/100\n",
      "6000/6000 [==============================] - 0s 53us/sample - loss: 6.1490 - mean_absolute_error: 1.7643 - val_loss: 6.4993 - val_mean_absolute_error: 1.7683\n",
      "Epoch 37/100\n",
      "6000/6000 [==============================] - 0s 59us/sample - loss: 6.1083 - mean_absolute_error: 1.7581 - val_loss: 6.3752 - val_mean_absolute_error: 1.7497\n",
      "Epoch 38/100\n",
      "6000/6000 [==============================] - 1s 86us/sample - loss: 6.0267 - mean_absolute_error: 1.7477 - val_loss: 6.3927 - val_mean_absolute_error: 1.7586\n",
      "Epoch 39/100\n",
      "6000/6000 [==============================] - 1s 96us/sample - loss: 5.9257 - mean_absolute_error: 1.7270 - val_loss: 6.3047 - val_mean_absolute_error: 1.7519\n",
      "Epoch 40/100\n",
      "6000/6000 [==============================] - 1s 97us/sample - loss: 5.9159 - mean_absolute_error: 1.7314 - val_loss: 6.2430 - val_mean_absolute_error: 1.7328\n",
      "Epoch 41/100\n",
      "6000/6000 [==============================] - 1s 95us/sample - loss: 5.8415 - mean_absolute_error: 1.7142 - val_loss: 6.2134 - val_mean_absolute_error: 1.7313\n",
      "Epoch 42/100\n",
      "6000/6000 [==============================] - 1s 88us/sample - loss: 5.7387 - mean_absolute_error: 1.6997 - val_loss: 6.2588 - val_mean_absolute_error: 1.7267\n",
      "Epoch 43/100\n",
      "6000/6000 [==============================] - 1s 92us/sample - loss: 5.7218 - mean_absolute_error: 1.6961 - val_loss: 6.1994 - val_mean_absolute_error: 1.7320\n",
      "Epoch 44/100\n",
      "6000/6000 [==============================] - 1s 97us/sample - loss: 5.6540 - mean_absolute_error: 1.6852 - val_loss: 6.0758 - val_mean_absolute_error: 1.7070\n",
      "Epoch 45/100\n",
      "6000/6000 [==============================] - 1s 86us/sample - loss: 5.5740 - mean_absolute_error: 1.6697 - val_loss: 6.1120 - val_mean_absolute_error: 1.6929\n",
      "Epoch 46/100\n",
      "6000/6000 [==============================] - 1s 96us/sample - loss: 5.5288 - mean_absolute_error: 1.6598 - val_loss: 6.0187 - val_mean_absolute_error: 1.6902\n",
      "Epoch 47/100\n",
      "6000/6000 [==============================] - 1s 103us/sample - loss: 5.4736 - mean_absolute_error: 1.6449 - val_loss: 5.9998 - val_mean_absolute_error: 1.6920\n",
      "Epoch 48/100\n",
      "6000/6000 [==============================] - 1s 98us/sample - loss: 5.4102 - mean_absolute_error: 1.6357 - val_loss: 5.9790 - val_mean_absolute_error: 1.6799\n",
      "Epoch 49/100\n",
      "6000/6000 [==============================] - 1s 89us/sample - loss: 5.3878 - mean_absolute_error: 1.6274 - val_loss: 5.9533 - val_mean_absolute_error: 1.6762\n",
      "Epoch 50/100\n",
      "6000/6000 [==============================] - 1s 92us/sample - loss: 5.3923 - mean_absolute_error: 1.6370 - val_loss: 5.9073 - val_mean_absolute_error: 1.6724\n",
      "Epoch 51/100\n",
      "6000/6000 [==============================] - 1s 97us/sample - loss: 5.2636 - mean_absolute_error: 1.6042 - val_loss: 5.8159 - val_mean_absolute_error: 1.6515\n",
      "Epoch 52/100\n",
      "6000/6000 [==============================] - 1s 94us/sample - loss: 5.2190 - mean_absolute_error: 1.5992 - val_loss: 5.7426 - val_mean_absolute_error: 1.6307\n",
      "Epoch 53/100\n",
      "6000/6000 [==============================] - 1s 99us/sample - loss: 5.1683 - mean_absolute_error: 1.5929 - val_loss: 5.8469 - val_mean_absolute_error: 1.6548\n",
      "Epoch 54/100\n",
      "6000/6000 [==============================] - 1s 91us/sample - loss: 5.1313 - mean_absolute_error: 1.5831 - val_loss: 5.9382 - val_mean_absolute_error: 1.6767\n",
      "Epoch 55/100\n",
      "6000/6000 [==============================] - 1s 100us/sample - loss: 5.1686 - mean_absolute_error: 1.5912 - val_loss: 5.7107 - val_mean_absolute_error: 1.6300\n",
      "Epoch 56/100\n",
      "6000/6000 [==============================] - 0s 59us/sample - loss: 5.0509 - mean_absolute_error: 1.5700 - val_loss: 5.6692 - val_mean_absolute_error: 1.6041\n",
      "Epoch 57/100\n",
      "6000/6000 [==============================] - 0s 57us/sample - loss: 4.9941 - mean_absolute_error: 1.5571 - val_loss: 5.7310 - val_mean_absolute_error: 1.6357\n",
      "Epoch 58/100\n",
      "6000/6000 [==============================] - 0s 79us/sample - loss: 5.0255 - mean_absolute_error: 1.5634 - val_loss: 5.6080 - val_mean_absolute_error: 1.5897\n",
      "Epoch 59/100\n",
      "6000/6000 [==============================] - 1s 89us/sample - loss: 4.9210 - mean_absolute_error: 1.5399 - val_loss: 5.5502 - val_mean_absolute_error: 1.5923\n",
      "Epoch 60/100\n",
      "6000/6000 [==============================] - 1s 86us/sample - loss: 4.8995 - mean_absolute_error: 1.5373 - val_loss: 5.7095 - val_mean_absolute_error: 1.6337\n",
      "Epoch 61/100\n",
      "6000/6000 [==============================] - 1s 102us/sample - loss: 4.8219 - mean_absolute_error: 1.5181 - val_loss: 5.5301 - val_mean_absolute_error: 1.5894\n",
      "Epoch 62/100\n",
      "6000/6000 [==============================] - 1s 95us/sample - loss: 4.8248 - mean_absolute_error: 1.5168 - val_loss: 5.5282 - val_mean_absolute_error: 1.5903\n",
      "Epoch 63/100\n",
      "6000/6000 [==============================] - 1s 98us/sample - loss: 4.7597 - mean_absolute_error: 1.5102 - val_loss: 5.3851 - val_mean_absolute_error: 1.5538\n",
      "Epoch 64/100\n",
      "6000/6000 [==============================] - 1s 94us/sample - loss: 4.7421 - mean_absolute_error: 1.5026 - val_loss: 5.5720 - val_mean_absolute_error: 1.6039\n",
      "Epoch 65/100\n",
      "6000/6000 [==============================] - 1s 97us/sample - loss: 4.7370 - mean_absolute_error: 1.5012 - val_loss: 5.6061 - val_mean_absolute_error: 1.6121\n",
      "Epoch 66/100\n",
      "6000/6000 [==============================] - 1s 92us/sample - loss: 4.6691 - mean_absolute_error: 1.4872 - val_loss: 5.3914 - val_mean_absolute_error: 1.5639\n",
      "Epoch 67/100\n",
      "6000/6000 [==============================] - 1s 84us/sample - loss: 4.6580 - mean_absolute_error: 1.4882 - val_loss: 5.6991 - val_mean_absolute_error: 1.6176\n",
      "Epoch 68/100\n",
      "6000/6000 [==============================] - 1s 92us/sample - loss: 4.5877 - mean_absolute_error: 1.4704 - val_loss: 5.2789 - val_mean_absolute_error: 1.5263\n",
      "Epoch 69/100\n",
      "6000/6000 [==============================] - 1s 93us/sample - loss: 4.6332 - mean_absolute_error: 1.4794 - val_loss: 5.8696 - val_mean_absolute_error: 1.6808\n",
      "Epoch 70/100\n",
      "6000/6000 [==============================] - 1s 88us/sample - loss: 4.5553 - mean_absolute_error: 1.4670 - val_loss: 5.2866 - val_mean_absolute_error: 1.5231\n",
      "Epoch 71/100\n",
      "6000/6000 [==============================] - 1s 100us/sample - loss: 4.5154 - mean_absolute_error: 1.4523 - val_loss: 5.2436 - val_mean_absolute_error: 1.5217\n",
      "Epoch 72/100\n",
      "6000/6000 [==============================] - 1s 91us/sample - loss: 4.4912 - mean_absolute_error: 1.4462 - val_loss: 5.3618 - val_mean_absolute_error: 1.5509\n",
      "Epoch 73/100\n",
      "6000/6000 [==============================] - 1s 88us/sample - loss: 4.4449 - mean_absolute_error: 1.4423 - val_loss: 5.2735 - val_mean_absolute_error: 1.5279\n",
      "Epoch 74/100\n",
      "6000/6000 [==============================] - 1s 100us/sample - loss: 4.4332 - mean_absolute_error: 1.4335 - val_loss: 5.1730 - val_mean_absolute_error: 1.5066\n",
      "Epoch 75/100\n",
      "6000/6000 [==============================] - 1s 92us/sample - loss: 4.4457 - mean_absolute_error: 1.4377 - val_loss: 5.2881 - val_mean_absolute_error: 1.5189\n",
      "Epoch 76/100\n",
      "6000/6000 [==============================] - 1s 93us/sample - loss: 4.3843 - mean_absolute_error: 1.4301 - val_loss: 5.1401 - val_mean_absolute_error: 1.4863\n",
      "Epoch 77/100\n",
      "6000/6000 [==============================] - 1s 93us/sample - loss: 4.3539 - mean_absolute_error: 1.4217 - val_loss: 5.0960 - val_mean_absolute_error: 1.4875\n",
      "Epoch 78/100\n",
      "6000/6000 [==============================] - 1s 96us/sample - loss: 4.2967 - mean_absolute_error: 1.4064 - val_loss: 5.3526 - val_mean_absolute_error: 1.5408\n",
      "Epoch 79/100\n",
      "6000/6000 [==============================] - 1s 96us/sample - loss: 4.3833 - mean_absolute_error: 1.4268 - val_loss: 5.1034 - val_mean_absolute_error: 1.4770\n",
      "Epoch 80/100\n",
      "6000/6000 [==============================] - 1s 84us/sample - loss: 4.2538 - mean_absolute_error: 1.3972 - val_loss: 5.1025 - val_mean_absolute_error: 1.4866\n",
      "Epoch 81/100\n",
      "6000/6000 [==============================] - 1s 96us/sample - loss: 4.2563 - mean_absolute_error: 1.3965 - val_loss: 5.0584 - val_mean_absolute_error: 1.4781\n",
      "Epoch 82/100\n",
      "6000/6000 [==============================] - 1s 111us/sample - loss: 4.2215 - mean_absolute_error: 1.3875 - val_loss: 4.9973 - val_mean_absolute_error: 1.4652\n",
      "Epoch 83/100\n",
      "6000/6000 [==============================] - 1s 100us/sample - loss: 4.2430 - mean_absolute_error: 1.3911 - val_loss: 4.9722 - val_mean_absolute_error: 1.4451\n",
      "Epoch 84/100\n",
      "6000/6000 [==============================] - 1s 88us/sample - loss: 4.1649 - mean_absolute_error: 1.3729 - val_loss: 4.9353 - val_mean_absolute_error: 1.4482\n",
      "Epoch 85/100\n",
      "6000/6000 [==============================] - 1s 84us/sample - loss: 4.1485 - mean_absolute_error: 1.3734 - val_loss: 5.1419 - val_mean_absolute_error: 1.4882\n",
      "Epoch 86/100\n",
      "6000/6000 [==============================] - 1s 94us/sample - loss: 4.1744 - mean_absolute_error: 1.3784 - val_loss: 5.0251 - val_mean_absolute_error: 1.4567\n",
      "Epoch 87/100\n",
      "6000/6000 [==============================] - 1s 104us/sample - loss: 4.1388 - mean_absolute_error: 1.3668 - val_loss: 4.8864 - val_mean_absolute_error: 1.4278\n",
      "Epoch 88/100\n",
      "6000/6000 [==============================] - 1s 84us/sample - loss: 4.1287 - mean_absolute_error: 1.3729 - val_loss: 5.1117 - val_mean_absolute_error: 1.4923\n",
      "Epoch 89/100\n",
      "6000/6000 [==============================] - 1s 93us/sample - loss: 4.1000 - mean_absolute_error: 1.3642 - val_loss: 5.1350 - val_mean_absolute_error: 1.5064\n",
      "Epoch 90/100\n",
      "6000/6000 [==============================] - 1s 91us/sample - loss: 4.0298 - mean_absolute_error: 1.3455 - val_loss: 4.9590 - val_mean_absolute_error: 1.4376\n",
      "Epoch 91/100\n",
      "6000/6000 [==============================] - 1s 94us/sample - loss: 4.0663 - mean_absolute_error: 1.3562 - val_loss: 4.9001 - val_mean_absolute_error: 1.4338\n",
      "Epoch 92/100\n",
      "6000/6000 [==============================] - 1s 99us/sample - loss: 4.0365 - mean_absolute_error: 1.3475 - val_loss: 5.0062 - val_mean_absolute_error: 1.4572\n",
      "1.5533133\n"
     ]
    }
   ],
   "source": [
    "TRAIN = True\n",
    "patience = 5\n",
    "n_epochs = 100\n",
    "\n",
    "\n",
    "   \n",
    "net = create_net()\n",
    "\n",
    "fname_w = 'weights/d010.hd5'\n",
    "\n",
    "\n",
    "filepath = 't_weights_'+GPU\n",
    "if TRAIN:\n",
    "    c=[ keras.callbacks.ModelCheckpoint(filepath, monitor='val_loss', verbose=0, save_best_only=True),\n",
    "      keras.callbacks.EarlyStopping(monitor='val_loss',  patience=patience)]\n",
    "    history = net.fit(train_x,train_y,\n",
    "                             validation_data=(vld_x , vld_y),callbacks=c, epochs=n_epochs)\n",
    "    net.load_weights(filepath)\n",
    "    net.save_weights(fname_w,save_format=\"h5\")\n",
    "else:\n",
    "    net.load_weights(fname_w)\n",
    "        \n",
    "\n",
    "\n",
    "res = net.evaluate(test_x,test_y,verbose=0)[1]\n",
    "\n",
    "\n",
    "print(res)\n",
    "\n",
    "    \n",
    "    \n",
    "    \n"
   ]
  },
  {
   "cell_type": "code",
   "execution_count": 16,
   "metadata": {},
   "outputs": [
    {
     "data": {
      "text/plain": [
       "[5.797635377248128, 1.5533133]"
      ]
     },
     "execution_count": 16,
     "metadata": {},
     "output_type": "execute_result"
    }
   ],
   "source": [
    "net.evaluate(test_x,test_y,verbose=0)"
   ]
  },
  {
   "cell_type": "code",
   "execution_count": 17,
   "metadata": {},
   "outputs": [
    {
     "data": {
      "text/plain": [
       "0.07866666666666666"
      ]
     },
     "execution_count": 17,
     "metadata": {},
     "output_type": "execute_result"
    }
   ],
   "source": [
    "pred_y = np.round(net.predict(test_x))\n",
    "np.mean(np.all(pred_y==test_y,1))"
   ]
  },
  {
   "cell_type": "code",
   "execution_count": null,
   "metadata": {},
   "outputs": [],
   "source": []
  }
 ],
 "metadata": {
  "kernelspec": {
   "display_name": "Python 3",
   "language": "python",
   "name": "python3"
  },
  "language_info": {
   "codemirror_mode": {
    "name": "ipython",
    "version": 3
   },
   "file_extension": ".py",
   "mimetype": "text/x-python",
   "name": "python",
   "nbconvert_exporter": "python",
   "pygments_lexer": "ipython3",
   "version": "3.6.9"
  }
 },
 "nbformat": 4,
 "nbformat_minor": 4
}
